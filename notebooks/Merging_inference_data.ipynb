{
 "cells": [
  {
   "cell_type": "code",
   "execution_count": 11,
   "id": "cc5d60ac",
   "metadata": {},
   "outputs": [
    {
     "name": "stdout",
     "output_type": "stream",
     "text": [
      "         date                State         District  temperature  humidity  \\\n",
      "0  13-07-2025  Andaman and Nicobar  Andaman Islands        27.83     81.05   \n",
      "1  13-07-2025  Andaman and Nicobar  Nicobar Islands        27.35     83.08   \n",
      "2  13-07-2025       Andhra Pradesh       Srikakulam        30.10     71.53   \n",
      "3  13-07-2025       Andhra Pradesh   Vishakhapatnam        30.07     72.12   \n",
      "4  13-07-2025       Andhra Pradesh     Vizianagaram        27.75     73.53   \n",
      "\n",
      "   rainfall   N   P   K        pH  \n",
      "0     49.46  78  48  22  5.588651  \n",
      "1    263.83  34  71  79  7.728998  \n",
      "2      3.92  68  70  54  6.986229  \n",
      "3      1.71  25  40  21  6.248901  \n",
      "4     17.35   3  23  30  6.078807  \n"
     ]
    }
   ],
   "source": [
    "import pandas as pd\n",
    "\n",
    "# Load both CSVs\n",
    "weather_df = pd.read_csv(\"Data/weather_2025-07-13.csv\")\n",
    "soil_df = pd.read_csv(\"Inference_soil_map.csv\")\n",
    "\n",
    "# Merge on State and District\n",
    "merged_df = pd.merge(weather_df, soil_df, on=[\"State\", \"District\"])\n",
    "\n",
    "# Save to a new file\n",
    "merged_df.to_csv(\"merged_data.csv\", index=False)\n",
    "\n",
    "# Preview result\n",
    "print(merged_df.head())\n"
   ]
  },
  {
   "cell_type": "code",
   "execution_count": 12,
   "id": "32336a50",
   "metadata": {},
   "outputs": [
    {
     "data": {
      "text/plain": [
       "589"
      ]
     },
     "execution_count": 12,
     "metadata": {},
     "output_type": "execute_result"
    }
   ],
   "source": [
    "len(merged_df)"
   ]
  },
  {
   "cell_type": "code",
   "execution_count": 13,
   "id": "c6e8fb02",
   "metadata": {},
   "outputs": [
    {
     "data": {
      "text/plain": [
       "Index(['date', 'State', 'District', 'temperature', 'humidity', 'rainfall', 'N',\n",
       "       'P', 'K', 'pH'],\n",
       "      dtype='object')"
      ]
     },
     "execution_count": 13,
     "metadata": {},
     "output_type": "execute_result"
    }
   ],
   "source": [
    "merged_df.columns"
   ]
  },
  {
   "cell_type": "code",
   "execution_count": 16,
   "id": "084f8f16",
   "metadata": {},
   "outputs": [],
   "source": [
    "merged_df = merged_df.rename(columns={\n",
    "    'p': 'P',\n",
    "    'k': 'K',\n",
    "    'pH': 'ph'\n",
    "})"
   ]
  },
  {
   "cell_type": "code",
   "execution_count": 15,
   "id": "ac1ef5f5",
   "metadata": {},
   "outputs": [
    {
     "name": "stdout",
     "output_type": "stream",
     "text": [
      "Model expects: ['N' 'P' 'K' 'temperature' 'humidity' 'ph' 'rainfall']\n"
     ]
    }
   ],
   "source": [
    "print(\"Model expects:\", model.feature_names_in_)"
   ]
  },
  {
   "cell_type": "code",
   "execution_count": null,
   "id": "14d78fa2",
   "metadata": {},
   "outputs": [
    {
     "name": "stdout",
     "output_type": "stream",
     "text": [
      "✅ Recommended Crop for Agra, Uttar Pradesh: pigeonpeas\n"
     ]
    }
   ],
   "source": [
    "import pandas as pd\n",
    "import pickle\n",
    "\n",
    "merged_df = pd.read_csv(\"merged_data.csv\")\n",
    "\n",
    "merged_df = merged_df.rename(columns={\n",
    "    'p': 'P',\n",
    "    'k': 'K',\n",
    "    'pH': 'ph'\n",
    "})\n",
    "\n",
    "\n",
    "user_state = input(\"Enter the State: \").strip()\n",
    "user_district = input(\"Enter the District: \").strip()\n",
    "\n",
    "row = merged_df[\n",
    "    (merged_df[\"State\"].str.strip().str.lower() == user_state.lower()) &\n",
    "    (merged_df[\"District\"].str.strip().str.lower() == user_district.lower())\n",
    "]\n",
    "\n",
    "if row.empty:\n",
    "    print(\"❌ No matching data found for that State and District.\")\n",
    "else:\n",
    "\n",
    "    feature_columns = [\"N\", \"P\", \"K\", \"temperature\", \"humidity\", \"ph\", \"rainfall\"]\n",
    "    features = row[feature_columns]\n",
    "\n",
    " \n",
    "    with open(\"naive_model.pkl\", \"rb\") as f:\n",
    "        model = pickle.load(f)\n",
    "\n",
    "\n",
    "    prediction = model.predict(features)[0]\n",
    "\n",
    "    print(f\"✅ Recommended Crop for {user_district}, {user_state}: {prediction}\")\n"
   ]
  }
 ],
 "metadata": {
  "kernelspec": {
   "display_name": "myenv",
   "language": "python",
   "name": "python3"
  },
  "language_info": {
   "codemirror_mode": {
    "name": "ipython",
    "version": 3
   },
   "file_extension": ".py",
   "mimetype": "text/x-python",
   "name": "python",
   "nbconvert_exporter": "python",
   "pygments_lexer": "ipython3",
   "version": "3.13.1"
  }
 },
 "nbformat": 4,
 "nbformat_minor": 5
}
